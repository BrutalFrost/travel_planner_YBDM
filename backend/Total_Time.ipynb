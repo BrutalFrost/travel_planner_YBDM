{
 "cells": [
  {
   "cell_type": "code",
   "execution_count": null,
   "metadata": {},
   "outputs": [],
   "source": [
    "import requests\n",
    "from datetime import datetime\n",
    "\n",
    "# Replace with your ResRobot API key\n",
    "API_KEY = 'TRAFFICLABS_API_KEY'\n",
    "\n",
    "# Replace with your origin and destination IDs\n",
    "origin_id = 'ORIGIN_ID'\n",
    "destination_id = 'DESTINATION_ID'\n",
    "\n",
    "#api endpoint for the total time\n",
    "url = 'https://api.resrobot.se/v2.1/trip'\n",
    "\n",
    "\n",
    "params = {\n",
    "    'originId': origin_id,\n",
    "    'destId': destination_id,\n",
    "    'format': 'json',\n",
    "    'accessId': API_KEY\n",
    "}\n",
    "\n",
    "\n",
    "response = requests.get(url, params=params)\n",
    "data = response.json()\n",
    "\n",
    "\n",
    "if 'Trip' in data:\n",
    "    # Get the first trip option\n",
    "    trip = data['Trip'][0]\n",
    "    \n",
    "    # Extract departure and arrival times\n",
    "    departure_time = trip['LegList']['Leg'][0]['Origin']['date'] + ' ' + trip['LegList']['Leg'][0]['Origin']['time']\n",
    "    arrival_time = trip['LegList']['Leg'][-1]['Destination']['date'] + ' ' + trip['LegList']['Leg'][-1]['Destination']['time']\n",
    "    \n",
    "    # Convert to datetime objects\n",
    "    departure_dt = datetime.strptime(departure_time, '%Y-%m-%d %H:%M:%S')\n",
    "    arrival_dt = datetime.strptime(arrival_time, '%Y-%m-%d %H:%M:%S')\n",
    "    \n",
    "    # Calculate trip duration\n",
    "    duration = arrival_dt - departure_dt\n",
    "    print(f'Trip duration: {duration}')\n",
    "else:\n",
    "    print('No trips found for the specified route.')\n"
   ]
  }
 ],
 "metadata": {
  "language_info": {
   "name": "python"
  }
 },
 "nbformat": 4,
 "nbformat_minor": 2
}

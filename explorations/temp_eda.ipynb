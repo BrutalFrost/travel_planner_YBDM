{
 "cells": [
  {
   "cell_type": "code",
   "execution_count": null,
   "metadata": {},
   "outputs": [
    {
     "ename": "NameError",
     "evalue": "name 'location' is not defined",
     "output_type": "error",
     "traceback": [
      "\u001b[1;31m---------------------------------------------------------------------------\u001b[0m",
      "\u001b[1;31mNameError\u001b[0m                                 Traceback (most recent call last)",
      "Cell \u001b[1;32mIn[2], line 6\u001b[0m\n\u001b[0;32m      3\u001b[0m \u001b[38;5;28;01mimport\u001b[39;00m \u001b[38;5;21;01mrequests\u001b[39;00m\n\u001b[0;32m      4\u001b[0m \u001b[38;5;28;01mimport\u001b[39;00m \u001b[38;5;21;01mpandas\u001b[39;00m \u001b[38;5;28;01mas\u001b[39;00m \u001b[38;5;21;01mpd\u001b[39;00m \n\u001b[1;32m----> 6\u001b[0m url \u001b[38;5;241m=\u001b[39m \u001b[38;5;124mf\u001b[39m\u001b[38;5;124m\"\u001b[39m\u001b[38;5;124mhttps://api.resrobot.se/v2.1/location.name?input=\u001b[39m\u001b[38;5;132;01m{\u001b[39;00m\u001b[43mlocation\u001b[49m\u001b[38;5;132;01m}\u001b[39;00m\u001b[38;5;124m&format=json&accessId=\u001b[39m\u001b[38;5;132;01m{\u001b[39;00mresa\u001b[38;5;241m.\u001b[39mAPI_KEY\u001b[38;5;132;01m}\u001b[39;00m\u001b[38;5;124m\"\u001b[39m\n\u001b[0;32m      7\u001b[0m response \u001b[38;5;241m=\u001b[39m requests\u001b[38;5;241m.\u001b[39mget(url)\n\u001b[0;32m      8\u001b[0m result \u001b[38;5;241m=\u001b[39m response\u001b[38;5;241m.\u001b[39mjson()\n",
      "\u001b[1;31mNameError\u001b[0m: name 'location' is not defined"
     ]
    }
   ],
   "source": [
    "from dotenv import load_dotenv\n",
    "import os \n",
    "import requests\n",
    "import pandas as pd \n",
    "API_KEY = os.getenv(\"API_KEY\")\n",
    "url = f\"https://api.resrobot.se/v2.1/location.name?input={location}&format=json&accessId={resa.API_KEY}\"\n",
    "response = requests.get(url)\n",
    "result = response.json()\n",
    "res = result.get(\"stopLocationOrCoordLocation\")\n",
    "\n",
    "extracted_data = [\n",
    "    {\"name\": stop[\"StopLocation\"][\"name\"], \"stopid\": stop[\"StopLocation\"][\"extId\"]}\n",
    "    for stop in res\n",
    "]"
   ]
  }
 ],
 "metadata": {
  "kernelspec": {
   "display_name": ".venv",
   "language": "python",
   "name": "python3"
  },
  "language_info": {
   "codemirror_mode": {
    "name": "ipython",
    "version": 3
   },
   "file_extension": ".py",
   "mimetype": "text/x-python",
   "name": "python",
   "nbconvert_exporter": "python",
   "pygments_lexer": "ipython3",
   "version": "3.10.10"
  }
 },
 "nbformat": 4,
 "nbformat_minor": 2
}

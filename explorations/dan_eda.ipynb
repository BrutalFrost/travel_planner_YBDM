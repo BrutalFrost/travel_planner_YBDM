{
 "cells": [
  {
   "cell_type": "code",
   "execution_count": 11,
   "metadata": {
    "dotnet_interactive": {
     "language": "csharp"
    },
    "polyglot_notebook": {
     "kernelName": "csharp"
    }
   },
   "outputs": [],
   "source": [
    "from dotenv import load_dotenv\n",
    "import os \n",
    "import requests\n",
    "import pandas as pd \n",
    "\n",
    "load_dotenv()\n",
    "\n",
    "API_KEY= os.getenv(\"API_KEY\")\n",
    "\n",
    "url= f\"https://api.resrobot.se/v2.1/trip?format=json&originId=740000002&destId=740000003&passlist=true&showPassingPoints=true&accessId={API_KEY}\"\n",
    "\n",
    "response=requests.get(url)\n",
    "result=response.json()\n",
    "result.keys()"
   ]
  },
  {
   "cell_type": "code",
   "execution_count": 13,
   "metadata": {
    "dotnet_interactive": {
     "language": "csharp"
    },
    "polyglot_notebook": {
     "kernelName": "csharp"
    }
   },
   "outputs": [],
   "source": [
    "def get_location_id(location):\n",
    "    url = f\"https://api.resrobot.se/v2.1/location.name?input={location}&format=json&accessId={API_KEY}\"\n",
    "\n",
    "    result=requests.get(url).json()\n",
    "    int_res=result.get('stopLocationOrCoordLocation')\n",
    "    return int(int_res[0]['StopLocation']['extId'])\n",
    "\n",
    "get_location_id(\"Göteborg\")"
   ]
  },
  {
   "cell_type": "code",
   "execution_count": 25,
   "metadata": {
    "dotnet_interactive": {
     "language": "csharp"
    },
    "polyglot_notebook": {
     "kernelName": "csharp"
    }
   },
   "outputs": [],
   "source": [
    "def ddf_timetable2(place_from, place_to):\n",
    "        fr_p=get_location_id(place_from)\n",
    "        to_p=get_location_id(place_to)\n",
    "        url= f\"https://api.resrobot.se/v2.1/trip?format=json&originId={fr_p}&destId={to_p}&passlist=true&showPassingPoints=true&accessId={API_KEY}\"\n",
    "\n",
    "        response=requests.get(url).json()\n",
    "        ex_trip=response['Trip']\n",
    "        resexp=[]\n",
    "        for timerow in ex_trip:\n",
    "            st_time=timerow['Origin']['time']\n",
    "            end_time=timerow['Destination']['time']\n",
    "            resexp.append([st_time[:-3], end_time[:-3]])\n",
    "\n",
    "        return pd.DataFrame(resexp, columns=[place_from, place_to])"
   ]
  },
  {
   "cell_type": "code",
   "execution_count": 26,
   "metadata": {
    "dotnet_interactive": {
     "language": "csharp"
    },
    "polyglot_notebook": {
     "kernelName": "csharp"
    }
   },
   "outputs": [],
   "source": [
    "ddf_timetable2(\"Stockholm\",\"Göteborg\")"
   ]
  },
  {
   "cell_type": "code",
   "execution_count": 27,
   "metadata": {
    "dotnet_interactive": {
     "language": "csharp"
    },
    "polyglot_notebook": {
     "kernelName": "csharp"
    }
   },
   "outputs": [],
   "source": [
    "\n",
    "\n",
    "x=ddf_timetable2(get_location_id(\"Göteborg\"),get_location_id(\"Stockholm\"))\n",
    "\n",
    "print(type(x))"
   ]
  },
  {
   "cell_type": "code",
   "execution_count": 4,
   "metadata": {},
   "outputs": [
    {
     "ename": "ModuleNotFoundError",
     "evalue": "No module named 'backend'",
     "output_type": "error",
     "traceback": [
      "\u001b[1;31m---------------------------------------------------------------------------\u001b[0m",
      "\u001b[1;31mModuleNotFoundError\u001b[0m                       Traceback (most recent call last)",
      "Cell \u001b[1;32mIn[4], line 1\u001b[0m\n\u001b[1;32m----> 1\u001b[0m \u001b[38;5;28;01mfrom\u001b[39;00m \u001b[38;5;21;01mbackend\u001b[39;00m\u001b[38;5;21;01m.\u001b[39;00m\u001b[38;5;21;01mconnect_to_api\u001b[39;00m \u001b[38;5;28;01mimport\u001b[39;00m ResRobot\n\u001b[0;32m      3\u001b[0m mytravel \u001b[38;5;241m=\u001b[39m ResRobot()\n\u001b[0;32m      5\u001b[0m \u001b[38;5;28mprint\u001b[39m(mytravel\u001b[38;5;241m.\u001b[39mAPI_KEY)\n",
      "\u001b[1;31mModuleNotFoundError\u001b[0m: No module named 'backend'"
     ]
    }
   ],
   "source": [
    "from backend.connect_to_api import ResRobot\n",
    "\n",
    "mytravel = ResRobot()\n",
    "\n",
    "print(mytravel.API_KEY)\n",
    "\n",
    "x = mytravel.get_location_id(\"Göteborg\")"
   ]
  }
 ],
 "metadata": {
  "kernelspec": {
   "display_name": "Python 3",
   "language": "python",
   "name": "python3"
  },
  "language_info": {
   "codemirror_mode": {
    "name": "ipython",
    "version": 3
   },
   "file_extension": ".py",
   "mimetype": "text/x-python",
   "name": "python",
   "nbconvert_exporter": "python",
   "pygments_lexer": "ipython3",
   "version": "3.11.7"
  },
  "polyglot_notebook": {
   "kernelInfo": {
    "defaultKernelName": "csharp",
    "items": [
     {
      "aliases": [],
      "name": "csharp"
     }
    ]
   }
  }
 },
 "nbformat": 4,
 "nbformat_minor": 2
}
